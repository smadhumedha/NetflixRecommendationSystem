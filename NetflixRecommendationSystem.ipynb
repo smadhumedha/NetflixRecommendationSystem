{
  "nbformat": 4,
  "nbformat_minor": 0,
  "metadata": {
    "colab": {
      "provenance": [],
      "authorship_tag": "ABX9TyP+9139n0VoAWcW5SFdobE2"
    },
    "kernelspec": {
      "name": "python3",
      "display_name": "Python 3"
    },
    "language_info": {
      "name": "python"
    }
  },
  "cells": [
    {
      "cell_type": "markdown",
      "source": [
        "# ABOUT PROJECT\n",
        "This project aims to provide movie and TV show recommendations based on user input using a dataset obtained from Kaggle. The dataset contains information about various movies and TV shows available on Netflix as of 2021. By leveraging natural language processing techniques and cosine similarity, the project recommends similar titles based on user queries.\n",
        "# ABOUT DATASET\n",
        "The dataset used in this project was obtained from Kaggle and consists of 5968 records and 13 columns. It includes information such as show ID, director, movie title, production country, release date, genre, cast, rating, IMDb score, duration, and date added to Netflix. The dataset was collected from Flixable, a third-party Netflix search engine.\n",
        "# Concepts Used in the Code\n",
        "- Data Cleaning: Removing unnecessary characters, URLs, and punctuation, converting text to lowercase, and stemming.\n",
        "- Mapping to Dictionary: Creating a mapping between cleaned titles and original titles to decode recommendations.\n",
        "- Vectorization: Converting text data into numerical representations using TF-IDF vectorization.\n",
        "- Cosine Similarity: Calculating the similarity between vectors to find similar items.\n",
        "- Nearest Neighbors Algorithm: Finding the nearest neighbors to a given item in a high-dimensional space.\n",
        "- Pandas DataFrame: Organizing and manipulating tabular data.\n"
      ],
      "metadata": {
        "id": "ouX3-m3M58k4"
      }
    },
    {
      "cell_type": "markdown",
      "source": [
        "# IMPORTING LIBRARIES"
      ],
      "metadata": {
        "id": "OWokDCrh0SPd"
      }
    },
    {
      "cell_type": "code",
      "source": [
        "import numpy as np\n",
        "import pandas as pd\n",
        "from sklearn.feature_extraction.text import TfidfVectorizer\n",
        "from sklearn.metrics.pairwise import cosine_similarity\n",
        "from sklearn.neighbors import NearestNeighbors\n",
        "import nltk\n",
        "import re\n",
        "from nltk.stem import SnowballStemmer"
      ],
      "metadata": {
        "id": "GKSaDeiy0Y1P"
      },
      "execution_count": 29,
      "outputs": []
    },
    {
      "cell_type": "markdown",
      "source": [
        "# Download stopwords and initialize stemmer"
      ],
      "metadata": {
        "id": "fXbUxgRa0b7p"
      }
    },
    {
      "cell_type": "code",
      "source": [
        "nltk.download('stopwords')\n",
        "stemmer = SnowballStemmer(\"english\")"
      ],
      "metadata": {
        "colab": {
          "base_uri": "https://localhost:8080/"
        },
        "id": "j6tQcBSm0fon",
        "outputId": "00e63f50-cffa-4475-bfc5-5ca36d34f06e"
      },
      "execution_count": 30,
      "outputs": [
        {
          "output_type": "stream",
          "name": "stderr",
          "text": [
            "[nltk_data] Downloading package stopwords to /root/nltk_data...\n",
            "[nltk_data]   Package stopwords is already up-to-date!\n"
          ]
        }
      ]
    },
    {
      "cell_type": "markdown",
      "source": [
        "# Load stopwords"
      ],
      "metadata": {
        "id": "Nm2T1peZ0gqJ"
      }
    },
    {
      "cell_type": "code",
      "source": [
        "stopwords = set(nltk.corpus.stopwords.words(\"english\"))"
      ],
      "metadata": {
        "id": "rjoR0nFd0nQ6"
      },
      "execution_count": 31,
      "outputs": []
    },
    {
      "cell_type": "markdown",
      "source": [
        "# Data Cleaning"
      ],
      "metadata": {
        "id": "KT7bCxlN0rCz"
      }
    },
    {
      "cell_type": "code",
      "source": [
        "def clean_text(text):\n",
        "    text = str(text).lower()\n",
        "    text = re.sub(r'\\[.*?\\]', '', text)\n",
        "    text = re.sub(r'https?://\\S+|www\\.\\S+', '', text)\n",
        "    text = re.sub(r'<.*?>+', '', text)\n",
        "    text = re.sub(r'\\n', '', text)\n",
        "    text = re.sub(r'\\w*\\d\\w*', '', text)\n",
        "    text = [stemmer.stem(word) for word in text.split() if word.lower() not in stopwords] # Stemming here\n",
        "    return ' '.join(text)"
      ],
      "metadata": {
        "id": "SUyakpKG03ah"
      },
      "execution_count": 32,
      "outputs": []
    },
    {
      "cell_type": "markdown",
      "source": [
        "# IMPORTING DATASET"
      ],
      "metadata": {
        "id": "uWYQgh4-04na"
      }
    },
    {
      "cell_type": "code",
      "source": [
        "data = pd.read_csv(\"netflixData.csv\")\n",
        "data = data[['Title', 'Description', 'Content Type', 'Genres']]"
      ],
      "metadata": {
        "id": "7HNfa56-08aA"
      },
      "execution_count": 33,
      "outputs": []
    },
    {
      "cell_type": "markdown",
      "source": [
        "# Apply data cleaning"
      ],
      "metadata": {
        "id": "ufzGd5vF0-oT"
      }
    },
    {
      "cell_type": "code",
      "source": [
        "data['Cleaned_Title'] = data['Title'].apply(clean_text)"
      ],
      "metadata": {
        "id": "3EYfjjpg1CMD"
      },
      "execution_count": 34,
      "outputs": []
    },
    {
      "cell_type": "markdown",
      "source": [
        "# Remove NaN/Null values"
      ],
      "metadata": {
        "id": "8srX_1D_1JQC"
      }
    },
    {
      "cell_type": "code",
      "source": [
        "data = data.dropna()"
      ],
      "metadata": {
        "id": "pKKBG-DV1El0"
      },
      "execution_count": 35,
      "outputs": []
    },
    {
      "cell_type": "markdown",
      "source": [
        "# Creating a dictionary to map cleaned titles to original titles."
      ],
      "metadata": {
        "id": "xpTIuF1u1O1H"
      }
    },
    {
      "cell_type": "code",
      "source": [
        "title_mapping = dict(zip(data['Cleaned_Title'], data['Title']))"
      ],
      "metadata": {
        "id": "Xqej2Tx21Sp0"
      },
      "execution_count": 36,
      "outputs": []
    },
    {
      "cell_type": "markdown",
      "source": [
        "# Optimize Vectorization"
      ],
      "metadata": {
        "id": "NibppAe_1WVI"
      }
    },
    {
      "cell_type": "code",
      "source": [
        "tfidf = TfidfVectorizer(stop_words='english')\n",
        "tfidf_matrix = tfidf.fit_transform(data['Genres'])\n"
      ],
      "metadata": {
        "id": "scifB7Hj1V2y"
      },
      "execution_count": 37,
      "outputs": []
    },
    {
      "cell_type": "markdown",
      "source": [
        "# Improve Similarity Calculation (cosine similarity)"
      ],
      "metadata": {
        "id": "j4lUns1k1lDS"
      }
    },
    {
      "cell_type": "code",
      "source": [
        "similarity = cosine_similarity(tfidf_matrix)"
      ],
      "metadata": {
        "id": "HQusjcTQ1eMC"
      },
      "execution_count": 38,
      "outputs": []
    },
    {
      "cell_type": "markdown",
      "source": [
        "# Using Nearest Neighbors Algorithm"
      ],
      "metadata": {
        "id": "0KJudxgu1oul"
      }
    },
    {
      "cell_type": "code",
      "source": [
        "nn_model = NearestNeighbors(n_neighbors=10, algorithm='auto', metric='cosine')\n",
        "nn_model.fit(tfidf_matrix)"
      ],
      "metadata": {
        "colab": {
          "base_uri": "https://localhost:8080/",
          "height": 74
        },
        "id": "ijbQDszv1udm",
        "outputId": "e73c5b93-d102-4b2e-ee78-4c1a8ab64734"
      },
      "execution_count": 39,
      "outputs": [
        {
          "output_type": "execute_result",
          "data": {
            "text/plain": [
              "NearestNeighbors(metric='cosine', n_neighbors=10)"
            ],
            "text/html": [
              "<style>#sk-container-id-2 {color: black;background-color: white;}#sk-container-id-2 pre{padding: 0;}#sk-container-id-2 div.sk-toggleable {background-color: white;}#sk-container-id-2 label.sk-toggleable__label {cursor: pointer;display: block;width: 100%;margin-bottom: 0;padding: 0.3em;box-sizing: border-box;text-align: center;}#sk-container-id-2 label.sk-toggleable__label-arrow:before {content: \"▸\";float: left;margin-right: 0.25em;color: #696969;}#sk-container-id-2 label.sk-toggleable__label-arrow:hover:before {color: black;}#sk-container-id-2 div.sk-estimator:hover label.sk-toggleable__label-arrow:before {color: black;}#sk-container-id-2 div.sk-toggleable__content {max-height: 0;max-width: 0;overflow: hidden;text-align: left;background-color: #f0f8ff;}#sk-container-id-2 div.sk-toggleable__content pre {margin: 0.2em;color: black;border-radius: 0.25em;background-color: #f0f8ff;}#sk-container-id-2 input.sk-toggleable__control:checked~div.sk-toggleable__content {max-height: 200px;max-width: 100%;overflow: auto;}#sk-container-id-2 input.sk-toggleable__control:checked~label.sk-toggleable__label-arrow:before {content: \"▾\";}#sk-container-id-2 div.sk-estimator input.sk-toggleable__control:checked~label.sk-toggleable__label {background-color: #d4ebff;}#sk-container-id-2 div.sk-label input.sk-toggleable__control:checked~label.sk-toggleable__label {background-color: #d4ebff;}#sk-container-id-2 input.sk-hidden--visually {border: 0;clip: rect(1px 1px 1px 1px);clip: rect(1px, 1px, 1px, 1px);height: 1px;margin: -1px;overflow: hidden;padding: 0;position: absolute;width: 1px;}#sk-container-id-2 div.sk-estimator {font-family: monospace;background-color: #f0f8ff;border: 1px dotted black;border-radius: 0.25em;box-sizing: border-box;margin-bottom: 0.5em;}#sk-container-id-2 div.sk-estimator:hover {background-color: #d4ebff;}#sk-container-id-2 div.sk-parallel-item::after {content: \"\";width: 100%;border-bottom: 1px solid gray;flex-grow: 1;}#sk-container-id-2 div.sk-label:hover label.sk-toggleable__label {background-color: #d4ebff;}#sk-container-id-2 div.sk-serial::before {content: \"\";position: absolute;border-left: 1px solid gray;box-sizing: border-box;top: 0;bottom: 0;left: 50%;z-index: 0;}#sk-container-id-2 div.sk-serial {display: flex;flex-direction: column;align-items: center;background-color: white;padding-right: 0.2em;padding-left: 0.2em;position: relative;}#sk-container-id-2 div.sk-item {position: relative;z-index: 1;}#sk-container-id-2 div.sk-parallel {display: flex;align-items: stretch;justify-content: center;background-color: white;position: relative;}#sk-container-id-2 div.sk-item::before, #sk-container-id-2 div.sk-parallel-item::before {content: \"\";position: absolute;border-left: 1px solid gray;box-sizing: border-box;top: 0;bottom: 0;left: 50%;z-index: -1;}#sk-container-id-2 div.sk-parallel-item {display: flex;flex-direction: column;z-index: 1;position: relative;background-color: white;}#sk-container-id-2 div.sk-parallel-item:first-child::after {align-self: flex-end;width: 50%;}#sk-container-id-2 div.sk-parallel-item:last-child::after {align-self: flex-start;width: 50%;}#sk-container-id-2 div.sk-parallel-item:only-child::after {width: 0;}#sk-container-id-2 div.sk-dashed-wrapped {border: 1px dashed gray;margin: 0 0.4em 0.5em 0.4em;box-sizing: border-box;padding-bottom: 0.4em;background-color: white;}#sk-container-id-2 div.sk-label label {font-family: monospace;font-weight: bold;display: inline-block;line-height: 1.2em;}#sk-container-id-2 div.sk-label-container {text-align: center;}#sk-container-id-2 div.sk-container {/* jupyter's `normalize.less` sets `[hidden] { display: none; }` but bootstrap.min.css set `[hidden] { display: none !important; }` so we also need the `!important` here to be able to override the default hidden behavior on the sphinx rendered scikit-learn.org. See: https://github.com/scikit-learn/scikit-learn/issues/21755 */display: inline-block !important;position: relative;}#sk-container-id-2 div.sk-text-repr-fallback {display: none;}</style><div id=\"sk-container-id-2\" class=\"sk-top-container\"><div class=\"sk-text-repr-fallback\"><pre>NearestNeighbors(metric=&#x27;cosine&#x27;, n_neighbors=10)</pre><b>In a Jupyter environment, please rerun this cell to show the HTML representation or trust the notebook. <br />On GitHub, the HTML representation is unable to render, please try loading this page with nbviewer.org.</b></div><div class=\"sk-container\" hidden><div class=\"sk-item\"><div class=\"sk-estimator sk-toggleable\"><input class=\"sk-toggleable__control sk-hidden--visually\" id=\"sk-estimator-id-2\" type=\"checkbox\" checked><label for=\"sk-estimator-id-2\" class=\"sk-toggleable__label sk-toggleable__label-arrow\">NearestNeighbors</label><div class=\"sk-toggleable__content\"><pre>NearestNeighbors(metric=&#x27;cosine&#x27;, n_neighbors=10)</pre></div></div></div></div></div>"
            ]
          },
          "metadata": {},
          "execution_count": 39
        }
      ]
    },
    {
      "cell_type": "markdown",
      "source": [
        "# Defining indices"
      ],
      "metadata": {
        "id": "CRCEr-bR1yCJ"
      }
    },
    {
      "cell_type": "code",
      "source": [
        "indices = pd.Series(data.index, index=data['Cleaned_Title']).drop_duplicates()"
      ],
      "metadata": {
        "id": "mXHXfibV12iB"
      },
      "execution_count": 40,
      "outputs": []
    },
    {
      "cell_type": "markdown",
      "source": [
        "# Recommendation Function"
      ],
      "metadata": {
        "id": "LVFfV5m02DJe"
      }
    },
    {
      "cell_type": "code",
      "source": [
        "def netflix_recommendation(title, model=nn_model, indices=indices):\n",
        "    title_cleaned = clean_text(title)\n",
        "    try:\n",
        "        title_index = indices[title_cleaned]\n",
        "    except KeyError:\n",
        "        return \"No recommendations found for this title.\"\n",
        "    _, indices = model.kneighbors(tfidf_matrix[title_index])\n",
        "    recommendations = data.iloc[indices[0]]['Cleaned_Title'].map(title_mapping)\n",
        "    return recommendations"
      ],
      "metadata": {
        "id": "ZS2DrGet2Jcb"
      },
      "execution_count": 48,
      "outputs": []
    },
    {
      "cell_type": "markdown",
      "source": [
        "# Testing the recommendation function"
      ],
      "metadata": {
        "id": "bubOx1wP2NWs"
      }
    },
    {
      "cell_type": "code",
      "source": [
        "print(netflix_recommendation(\"Legally blond\"))"
      ],
      "metadata": {
        "colab": {
          "base_uri": "https://localhost:8080/"
        },
        "id": "qRBMpsZ52VWm",
        "outputId": "b2ddeaa6-d460-4575-c123-bb9d1c19448d"
      },
      "execution_count": 49,
      "outputs": [
        {
          "output_type": "stream",
          "name": "stdout",
          "text": [
            "5803           When We First Met\n",
            "3343                       Naked\n",
            "1716       Friends with Benefits\n",
            "4978             The Last Summer\n",
            "4852          The Girl Next Door\n",
            "3071    Midnight at the Magnolia\n",
            "312           Always Be My Maybe\n",
            "1869               Good on Paper\n",
            "4950         The Kissing Booth 2\n",
            "5329             The Wrong Missy\n",
            "Name: Cleaned_Title, dtype: object\n"
          ]
        }
      ]
    },
    {
      "cell_type": "code",
      "source": [
        "print(netflix_recommendation(\"Fast and Furious\"))"
      ],
      "metadata": {
        "colab": {
          "base_uri": "https://localhost:8080/"
        },
        "id": "zt8G1vpc2rdt",
        "outputId": "d5c92022-4521-44c2-cd37-f67bfc6abed7"
      },
      "execution_count": 50,
      "outputs": [
        {
          "output_type": "stream",
          "name": "stdout",
          "text": [
            "No recommendations found for this title.\n"
          ]
        }
      ]
    },
    {
      "cell_type": "code",
      "source": [
        "print(netflix_recommendation(\"Transformers\"))"
      ],
      "metadata": {
        "colab": {
          "base_uri": "https://localhost:8080/"
        },
        "id": "XspohRNA4HRo",
        "outputId": "59d5bbaa-19b4-41a8-f347-efbb14e573b0"
      },
      "execution_count": 51,
      "outputs": [
        {
          "output_type": "stream",
          "name": "stdout",
          "text": [
            "4760              The Death and Life of Marsha P. Johnson\n",
            "1323                                           Disclosure\n",
            "2409                    John Was Trying to Contact Aliens\n",
            "144                                         A Secret Love\n",
            "1611                  Feminists: What Were They Thinking?\n",
            "619     Best Wishes, Warmest Regards: A Schitt's Creek...\n",
            "2167                                          I Am Divine\n",
            "5473                                          Transformer\n",
            "1022                                      Circus of Books\n",
            "3233       Mucho Mucho Amor: The Legend of Walter Mercado\n",
            "Name: Cleaned_Title, dtype: object\n"
          ]
        }
      ]
    }
  ]
}